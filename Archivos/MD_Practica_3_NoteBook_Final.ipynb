{
  "nbformat": 4,
  "nbformat_minor": 0,
  "metadata": {
    "colab": {
      "provenance": []
    },
    "kernelspec": {
      "name": "python3",
      "display_name": "Python 3"
    },
    "language_info": {
      "name": "python"
    }
  },
  "cells": [
    {
      "cell_type": "markdown",
      "source": [
        "# Práctica 3 de Minería de Datos\n",
        "\n",
        "## Autores\n",
        "- Jose Miguel Gómez Lozano\n",
        "- David Such Albiñana\n",
        "\n",
        "\n",
        "## Tareas a realizar\n",
        "\n",
        "- [X] Datos obligatorios a usar: proporcionados por la Fundación Charles Darwin.\n",
        "- [X] Impacto de la solución desarrollada, así como su creatividad e innovación (20%)\n",
        "- [X] Uso de datos adicionales: otros datos abiertos de interés que puedan ser útiles para el desarrollo de la solución (20%). Por ejemplo, el DataZonede la Fundación Charles Darwin.\n",
        "- [X] Uso adecuado de técnicas usadas vistas en clase (40%)\n",
        "- [X] Informe (10%) \n",
        "- [ ] Presentación (10%)\n",
        "- [ ? ] Extra: uso de técnicas adicionales no vistas en clase (+10% adicionales)\n",
        "\n"
      ],
      "metadata": {
        "id": "SgkkCd1E_Lad"
      }
    },
    {
      "cell_type": "markdown",
      "source": [
        "## Objetivo\n",
        "\n",
        "La idea de esta práctica es ampliar los datos de los que dispone la Fundación Charles Darwin y facilitar la posibilidad a usar a posteriori técnicas de predicción de fenómenos del niño para evitar problemas que pudieran surgir debido al mismo."
      ],
      "metadata": {
        "id": "FT6iLpS_0mOd"
      }
    },
    {
      "cell_type": "markdown",
      "source": [
        "## Fenómeno del Niño en las Islas Galápago\n",
        "\n",
        "\\\n",
        "\n",
        "![Islas Galápago y su ubicación](https://i2.wp.com/wanderlustphotosblog.com/wp-content/uploads/2018/09/Galapagos-Area-Map.png?resize=1138%2C703&ssl=1)"
      ],
      "metadata": {
        "id": "12yVJLpQtbrS"
      }
    },
    {
      "cell_type": "markdown",
      "source": [
        "## **¿Qué es el fenómeno del niño?**\n",
        "\n",
        "El fenómeno del Niño es un evento climático y oceanográfico que ocurre en el Pacífico tropical. Se caracteriza por el calentamiento anormal de las aguas superficiales del océano y tiene efectos significativos en los patrones climáticos globales.\n",
        "\n",
        "\n",
        "![Figura sobre el Fenómeno del Niño](https://th.bing.com/th/id/R.a6a06919d7e06ca670f231de662981fa?rik=NXJ4nsIPxgJWCg&riu=http%3a%2f%2f4.bp.blogspot.com%2f-mqboBoIufdU%2fT8liU5MWDeI%2fAAAAAAAAABY%2fXTPcjU2PNU0%2fs1600%2fCiclo_ninno.gif&ehk=7Nfg%2bXEWWpBWIEi16WGPzpIMlzgFbhuouxWTRZykHNs%3d&risl=&pid=ImgRaw&r=0)\n"
      ],
      "metadata": {
        "id": "yAe2k3iCtsty"
      }
    },
    {
      "cell_type": "markdown",
      "source": [
        "\n",
        "## Diferencia entre un año con dicho efecto y otro normal\n",
        "\n",
        "![Normal Year vs El Niño Year](https://spudman.com/wp-content/uploads/2018/12/El-Nino-graphicv2-2-998x1024.jpg)\n",
        "![Visualización en movimiento de El Niño](https://upload.wikimedia.org/wikipedia/commons/f/fb/Sst_9798_animated.gif)"
      ],
      "metadata": {
        "id": "9nInXc5nwpsl"
      }
    },
    {
      "cell_type": "markdown",
      "source": [
        "## **¿Qué consecuencias tiene?**\n",
        "\n",
        "El fenómeno del Niño puede tener varias consecuencias específicas en las Islas Galápagos.\n",
        "\n",
        "**Algunas de las posibles consecuencias son:**\n",
        "\n",
        "1. **Cambios en la temperatura del agua:** Durante el fenómeno del Niño, las aguas alrededor de las Islas Galápagos tienden a calentarse significativamente. Esto puede afectar los ecosistemas marinos y tener un impacto en la vida marina, incluyendo los corales, peces, tortugas marinas y otros organismos que dependen de un rango específico de temperaturas.\n",
        "\n",
        "2. **Alteración de las corrientes marinas:** El fenómeno del Niño puede alterar las corrientes oceánicas en la región de las Islas Galápagos. Esto puede afectar la disponibilidad de nutrientes y la productividad biológica, lo cual tiene implicaciones para las especies que dependen de estos recursos, como aves marinas y lobos marinos.\n",
        "\n",
        "3. **Cambios en la disponibilidad de alimentos:** Las variaciones en las corrientes marinas y la temperatura del agua pueden afectar la distribución y disponibilidad de alimentos para las especies terrestres y marinas en las Islas Galápagos. Esto puede tener un impacto en la reproducción, la supervivencia y las interacciones ecológicas entre las especies.\n",
        "\n",
        "4. **Impacto en la reproducción de especies:** El fenómeno del Niño puede interrumpir los ciclos reproductivos de varias especies en las Islas Galápagos. Por ejemplo, las aves marinas que dependen de la disponibilidad de alimentos en el mar pueden enfrentar dificultades para alimentar a sus crías debido a la escasez de presas.\n",
        "\n",
        "5. **Cambios en la vegetación y ecosistemas terrestres:** Las Islas Galápagos también cuentan con ecosistemas terrestres únicos, que pueden ser afectados por el fenómeno del Niño. Las variaciones en las precipitaciones y la temperatura pueden tener consecuencias en la vegetación, la distribución de especies y la interacción entre los organismos terrestres.\n",
        "\n",
        "Es importante destacar que las Islas Galápagos albergan una gran diversidad biológica y son reconocidas como un sitio de importancia global para la conservación. El fenómeno del Niño puede tener efectos significativos en estos ecosistemas, y su estudio y monitoreo son fundamentales para comprender y proteger la vida silvestre de la región.\n"
      ],
      "metadata": {
        "id": "7kj-xNqOsDjv"
      }
    },
    {
      "cell_type": "markdown",
      "source": [
        "## Regiones Niño\n",
        "\n",
        "Para una medición estandarizada y más precisa, se ha dividido al Pacífico ecuatorial en las siguientes regiones Niño:\n",
        "\n",
        "- **Regiones oceánicas**: De su medición se deduce la presencia de El niño o La Niña propiamente dichos, o más específicamente de El Niño o La Niña globales.\n",
        "\n",
        "  - Niño 4: Región localizada en el Pacífico ecuatorial centro-occidental que está delimitada por los meridianos 150°O a 160°E y los paralelos 5°N a 5°S, por lo que se sitúa en Polinesia, parte de Micronesia e incluye la línea de cambio de fecha.\n",
        "  - Niño 3: En el Pacífico ecuatorial centro-oriental que está delimitada por los meridianos 90°O - 150°O y los paralelos 5°N-5°S, por lo que es una región mayormente deshabitada.\n",
        "  - Niño 3.4: Situada en el Pacífico ecuatorial central, está formada por parte de Niño 3 y Niño 4, delimitándose por 120°O - 170°O y 5°N - 5°S.\n",
        "\n",
        "- **Regiones costeras**: Situadas en aguas próximas a la costa sudamericana, justo al sur de la línea ecuatorial. De su medición se deduce la presencia del Niño costero o de la Niña costera.\n",
        "  - Niño 2: Región localizada en el Pacífico ecuatorial oriental costero que está delimitada por los meridianos 80°O - 90°O y los paralelos 0° - 5°S, por lo que se sitúa entre las islas Galápagos y Ecuador.\n",
        "  - Niño 1: En el mar frente a las costas del norte de Perú y delimitada por 80°O - 90°O y 5°S - 10°S.\n",
        "  - Niño 1+2: Es la sumatoria de las regiones Niño 1 y Niño 2."
      ],
      "metadata": {
        "id": "BkKNtXv9Af73"
      }
    },
    {
      "cell_type": "markdown",
      "source": [
        "## Eventos del Fenómeno del Niño relevantes\n",
        "\n",
        "### WikiPedia:\n",
        "\n",
        "Los eventos calificados como niños muy fuertes o meganiños históricos serían los siguientes:\n",
        "\n",
        "- Niño de 1578\n",
        "- Niño de 1728\n",
        "- Niño de 1790-93\n",
        "- Niño de 1828\n",
        "- Niño de 1876-78\n",
        "- Niño de 1891, probable Niño costero (evento local sin mayor influencia global)\n",
        "\n",
        "Disponemos de datos desde 1981\n",
        "\n",
        "- Niño de 1925-26 (comienza con el Niño costero de 1925)\n",
        "- Niño de 1982-83\n",
        "- Niño de 1997-98\n",
        "- Niño de 2014-17 (finaliza con el Niño costero de 2017)\n",
        "- Niño de 2023-24"
      ],
      "metadata": {
        "id": "jdSHnwzDxJT6"
      }
    },
    {
      "cell_type": "markdown",
      "source": [
        "## Índices de Medición\n",
        "\n",
        "1. **`ONI`:** Es el \"Índice del Niño Oceánico (Oceanic Niño Index), el cual está basado en la medición promedio de la temperatura de la superficie del mar (TSM) de la región Niño 3.4 (región oceánica). **Es el índice más usado para la medición de El Niño-Oscilación del Sur por su influencia sobre el clima global.**\n",
        "\n",
        "2. **`ICEN`:** Es el \"Índice Costero El Niño”, el cual está basado en la medición térmica de la región Niño 1.2 (región costera). Fue definido por el Comité ENFEN con la finalidad de identificar la ocurrencia y magnitud del Niño costero y la Niña costera frente al litoral peruano.\n",
        "\n",
        "3. **`SOI`:** Es el \"Índice de oscilación sur\" (Southern Oscillation Index) está basado en la medición de la Oscilación del Sur, la cual presenta reportes desde 1876 de las variaciones de la presión atmosférica entre la Polinesia francesa y el norte de Australia."
      ],
      "metadata": {
        "id": "TrSoBmGlsDhd"
      }
    },
    {
      "cell_type": "code",
      "source": [
        "import IPython\n",
        "html = '<div id=\"TabbedPanels3\" class=\"TabbedPanels\"><div class=\"TabbedPanelsContentGroup\"><div class=\"TabbedPanelsContent\"><table style=\"border-collapse: collapse; text-align: center;\" style=\"background:#fff\"><tbody style=\"background:#fff; color:#000\"><tr height=\"30\"><th style=\"border: 1px solid black; text-align: center;\" width=\"90\">Condición</th><th style=\"border: 1px solid black; text-align: center;\" width=\"90\">Categoría</th><th style=\"border: 1px solid black; text-align: center;\" width=\"60\">ΔT máx.</th><th style=\"border: 1px solid black; text-align: center;\" width=\"60\">ΔT min.</th><th style=\"border: 1px solid black; text-align: center;\" rowspan=\"9\" width=\"300\"><h5></h5><a propia\"=\"\" rel=\"lightbox[ENLNMSRANM]\" href=\"https://www.imarpe.gob.pe/ftp/enso/imagenes/ATSM_mm_D_ICEN.png\" target=\"_blank\" title=\"\"><img style=\"width:300px;height:300px;\" src=\"https://www.imarpe.gob.pe/ftp/enso/imagenes/ATSM_mm_D_ICEN.png\"></a></th></tr><tr><td style=\"border: 1px solid black;\" rowspan=\"3\">La Niña</td><td style=\"border: 1px solid black;\">Fuerte</td><td style=\"border: 1px solid black;\"></td><td style=\"border: 1px solid black;\">&lt;-1,4</td></tr><tr><td style=\"border: 1px solid black;\">Moderado</td><td style=\"border: 1px solid black;\">≥-1,4</td><td style=\"border: 1px solid black;\">&lt;-1,2</td></tr><tr><td style=\"border: 1px solid black;\">Débil</td><td style=\"border: 1px solid black;\">≥-1,2</td><td style=\"border: 1px solid black;\">&lt;-1,0</td></tr><tr><td style=\"border: 1px solid black;\" colspan=\"2\">Neutro</td><td style=\"border: 1px solid black;\">≥-1,0</td><td style=\"border: 1px solid black;\">≤0,4</td></tr><tr><td style=\"border: 1px solid black;\" rowspan=\"4\">El Niño</td><td style=\"border: 1px solid black;\">Débil</td><td style=\"border: 1px solid black;\">&gt;0,4</td><td style=\"border: 1px solid black;\">≤1,0</td></tr><tr><td style=\"border: 1px solid black;\">Moderado</td><td style=\"border: 1px solid black;\">&gt;1,0</td><td style=\"border: 1px solid black;\">≤1,7</td></tr><tr><td style=\"border: 1px solid black;\">Fuerte</td><td style=\"border: 1px solid black;\">&gt;1,7</td><td style=\"border: 1px solid black;\">≤3,0</td></tr><tr><td style=\"border: 1px solid black;\">Muy Fuerte</td><td style=\"border: 1px solid black;\">&gt;3,0</td><td style=\"border: 1px solid black;\"></td></tr></tbody></table></div></div></div>1'\n",
        "IPython.display.HTML(html) "
      ],
      "metadata": {
        "id": "2FABnDvEX6zr",
        "outputId": "da9efc08-a33d-4ecd-e192-089b3c69c3c6",
        "colab": {
          "base_uri": "https://localhost:8080/",
          "height": 362
        }
      },
      "execution_count": 41,
      "outputs": [
        {
          "output_type": "execute_result",
          "data": {
            "text/plain": [
              "<IPython.core.display.HTML object>"
            ],
            "text/html": [
              "<div id=\"TabbedPanels3\" class=\"TabbedPanels\"><div class=\"TabbedPanelsContentGroup\"><div class=\"TabbedPanelsContent\"><table style=\"border-collapse: collapse; text-align: center;\" style=\"background:#fff\"><tbody style=\"background:#fff; color:#000\"><tr height=\"30\"><th style=\"border: 1px solid black; text-align: center;\" width=\"90\">Condición</th><th style=\"border: 1px solid black; text-align: center;\" width=\"90\">Categoría</th><th style=\"border: 1px solid black; text-align: center;\" width=\"60\">ΔT máx.</th><th style=\"border: 1px solid black; text-align: center;\" width=\"60\">ΔT min.</th><th style=\"border: 1px solid black; text-align: center;\" rowspan=\"9\" width=\"300\"><h5></h5><a propia\"=\"\" rel=\"lightbox[ENLNMSRANM]\" href=\"https://www.imarpe.gob.pe/ftp/enso/imagenes/ATSM_mm_D_ICEN.png\" target=\"_blank\" title=\"\"><img style=\"width:300px;height:300px;\" src=\"https://www.imarpe.gob.pe/ftp/enso/imagenes/ATSM_mm_D_ICEN.png\"></a></th></tr><tr><td style=\"border: 1px solid black;\" rowspan=\"3\">La Niña</td><td style=\"border: 1px solid black;\">Fuerte</td><td style=\"border: 1px solid black;\"></td><td style=\"border: 1px solid black;\">&lt;-1,4</td></tr><tr><td style=\"border: 1px solid black;\">Moderado</td><td style=\"border: 1px solid black;\">≥-1,4</td><td style=\"border: 1px solid black;\">&lt;-1,2</td></tr><tr><td style=\"border: 1px solid black;\">Débil</td><td style=\"border: 1px solid black;\">≥-1,2</td><td style=\"border: 1px solid black;\">&lt;-1,0</td></tr><tr><td style=\"border: 1px solid black;\" colspan=\"2\">Neutro</td><td style=\"border: 1px solid black;\">≥-1,0</td><td style=\"border: 1px solid black;\">≤0,4</td></tr><tr><td style=\"border: 1px solid black;\" rowspan=\"4\">El Niño</td><td style=\"border: 1px solid black;\">Débil</td><td style=\"border: 1px solid black;\">&gt;0,4</td><td style=\"border: 1px solid black;\">≤1,0</td></tr><tr><td style=\"border: 1px solid black;\">Moderado</td><td style=\"border: 1px solid black;\">&gt;1,0</td><td style=\"border: 1px solid black;\">≤1,7</td></tr><tr><td style=\"border: 1px solid black;\">Fuerte</td><td style=\"border: 1px solid black;\">&gt;1,7</td><td style=\"border: 1px solid black;\">≤3,0</td></tr><tr><td style=\"border: 1px solid black;\">Muy Fuerte</td><td style=\"border: 1px solid black;\">&gt;3,0</td><td style=\"border: 1px solid black;\"></td></tr></tbody></table></div></div></div>1"
            ]
          },
          "metadata": {},
          "execution_count": 41
        }
      ]
    },
    {
      "cell_type": "markdown",
      "source": [
        "## Motivación del proyecto\n",
        "\n",
        "Como propuesta vamos a sugerir usar el índice de `ICEN` (ver apartado anterior `Índices de Medición`) del fenómeno del niño (la más frecuente `ONI` pero `ICEN` tiene una relación más estrecha con las Islas Galápago) y así poder  predecir si volverá a suceder o no este fenómeno.\n",
        "\n",
        "Para lograr esto accederemos al conjunto de datos proporcionado por la FCD (_Fundación Charles Darwing_)."
      ],
      "metadata": {
        "id": "oL61rBRLobKx"
      }
    },
    {
      "cell_type": "markdown",
      "source": [
        "## Obtener ICEN (Índice Costero El Niño)\n",
        "\n",
        "Para obtener el índice `ICEN` lo que haremos será extraer los datos mediante `WebScrapping` accediendo a la url de [Climate Prediction Center](https://www.cpc.ncep.noaa.gov/data/indices/ersst5.nino.mth.91-20.ascii)."
      ],
      "metadata": {
        "id": "cscliUIRoXdf"
      }
    },
    {
      "cell_type": "markdown",
      "source": [
        "## Datos públicos\n",
        "\n",
        "Por suerte hemos podido encontrar datos que se van actualizando sobre el fenómeno del niño y que trataremos de incorporar al DataFrame de la _Fundación Charles Darwin_."
      ],
      "metadata": {
        "id": "i3GnV5IPAUEL"
      }
    },
    {
      "cell_type": "markdown",
      "source": [
        "## Importación de Librerías"
      ],
      "metadata": {
        "id": "Yn7KU8Zwp4ax"
      }
    },
    {
      "cell_type": "code",
      "source": [
        "# Librerias necesarias\n",
        "import requests  # Llamada a la API de la NASA\n",
        "import numpy as np  # Cálculos matemáticos y matriciales\n",
        "import pandas as pd  # Operaciones con conjuntos de datos (DataFrames)\n",
        "import seaborn as sns  # Librería para visualizar datos gráficamente\n",
        "import matplotlib.pyplot as plt  # Librería para visualizar datos gráficamente\n",
        "\n",
        "from sklearn.metrics import accuracy_score,precision_score, confusion_matrix\n",
        "from sklearn.linear_model import LogisticRegression  # Lib. de reg. logística\n",
        "from sklearn.model_selection import train_test_split, KFold  # Divide en train y test\n",
        "from imblearn.over_sampling import RandomOverSampler\n",
        "from sklearn.preprocessing import RobustScaler\n",
        "from sklearn.svm import SVC\n",
        "from sklearn.tree import DecisionTreeClassifier\n",
        "from sklearn.ensemble import GradientBoostingClassifier"
      ],
      "metadata": {
        "id": "tWQZD-l6xusQ"
      },
      "execution_count": 42,
      "outputs": []
    },
    {
      "cell_type": "markdown",
      "source": [
        "## Funciones auxiliares (elaboración propia)"
      ],
      "metadata": {
        "id": "UqkgPiVzKIQS"
      }
    },
    {
      "cell_type": "code",
      "source": [
        "# Definimos la \"constante\" UMBRAL de ICEN\n",
        "umbral = .5\n",
        "\n",
        "# Funcion que separa las fechas (puede ser de utilidad para la prediccion)\n",
        "def separe_date(data):\n",
        "    # Extraer los años y los meses en columnas separadas\n",
        "    data['year'] = data['observation_date'].dt.year\n",
        "    data['month'] = data['observation_date'].dt.month\n",
        "    data['day'] = data['observation_date'].dt.day\n",
        "    return data\n",
        "\n",
        "\n",
        "# Funcion que agrega el tipo de fenomeno que esta sufriendo en esa etapa\n",
        "def add_fenomeno(data):\n",
        "    # Metemos los nuevos datos de su fenomeno\n",
        "    data['fenomeno'] = 'Niño Muy Fuerte'\n",
        "    data.loc[data['anomalia'] <= 3.0, 'fenomeno'] = 'Niño Fuerte'\n",
        "    data.loc[data['anomalia'] <= 1.7, 'fenomeno'] = 'Niño Moderado'\n",
        "    data.loc[data['anomalia'] <= 1.0, 'fenomeno'] = 'Niño Débil'\n",
        "\n",
        "    data.loc[data['anomalia'] <= 0.4, 'fenomeno'] = 'Neutro'\n",
        "\n",
        "    data.loc[data['anomalia'] <= -1.0, 'fenomeno'] = 'Niña Débil'\n",
        "    data.loc[data['anomalia'] <= -1.2, 'fenomeno'] = 'Niña Moderado'\n",
        "    data.loc[data['anomalia'] <= -1.4, 'fenomeno'] = 'Niña Fuerte'\n",
        "\n",
        "    return data"
      ],
      "metadata": {
        "id": "-7TlsL7VysvC"
      },
      "execution_count": 43,
      "outputs": []
    },
    {
      "cell_type": "markdown",
      "source": [
        "### Plot ICEN (elaboración propia)\n",
        "\n",
        "Esta función imprime cronológimente si hubo o no mensualmente fenómeno del niño teniendo en cuenta una columna (`ICEN` o como veremos más adelante `anomalia`)"
      ],
      "metadata": {
        "id": "6PUMFwX2MU_Q"
      }
    },
    {
      "cell_type": "code",
      "source": [
        "def plot_ICEN(data, column='fenomeno',umbral=umbral):\n",
        "  # Usamos a modo de ICEN la anomalia basandonos en un umbral\n",
        "  # Establecer el estilo de Seaborn\n",
        "  sns.set_style(\"white\")\n",
        "\n",
        "  # Definir umbral y colores\n",
        "  color_niño = 'red'\n",
        "  color_niña = 'blue'\n",
        "  color_neutro = 'darkgray'\n",
        "\n",
        "  # Datos a mostrar\n",
        "  years = data['observation_date'].astype(str)\n",
        "  values = data['anomalia']\n",
        "\n",
        "  # Crear lista de colores según los valores de ICEN\n",
        "  colors = [color_niño if fen=='Niño' else color_niña if fen=='Niña' else color_neutro for fen in data[column]]\n",
        "  sizes = [25 if fen != 'Neutro' else 0 for fen in data[column]]\n",
        "\n",
        "  # Graficar la línea con colores según los eventos\n",
        "  plt.figure(figsize=(10, 6))\n",
        "  fig, ax = plt.subplots()\n",
        "\n",
        "  #ax.scatter(years, values, c=colors, s=sizes)\n",
        "  ax.plot(years, values, color='gray', linewidth=.5)\n",
        "  for i in range(len(values)-1):\n",
        "      plt.fill_between((years[i], years[i+1]), (values[i], values[i+1]),\n",
        "                       color='red' if values[i] > 0 else 'blue', linewidth=.5)\n",
        "  \n",
        "  ax.axhline(3, color=color_niño, linestyle='--', label='Niño Muy Fuerte')\n",
        "  ax.axhline(1.7, color=color_niño, linestyle='--', label='Niño Fuerte')\n",
        "  ax.axhline(1, color=color_niño, linestyle='--', label='Niño Moderado')\n",
        "  ax.axhline(.4, color=color_niño, linestyle='--', label='Niño Débil')\n",
        "  ax.axhline(-1, color=color_niña, linestyle='--', label='Niña Débil')\n",
        "  ax.axhline(-1.2, color=color_niña, linestyle='--', label='Niña Moderado')\n",
        "  ax.axhline(-1.4, color=color_niña, linestyle='--', label='Niña Fuerte')\n",
        "\n",
        "\n",
        "  plt.text(0,3.1,'Niño Muy Fuerte',fontsize=6, color='black')\n",
        "  plt.text(0,1.8,'Niño Fuerte',fontsize=6, color='black')\n",
        "  plt.text(0,1.1,'Niño Moderado',fontsize=6, color='black')\n",
        "  plt.text(0,0.5,'Niño Débil',fontsize=6, color='black')\n",
        "  plt.text(0,-0.9,'Niña Débil',fontsize=6, color='black')\n",
        "  plt.text(0,-1.1,'Niña Moderado',fontsize=6, color='black')\n",
        "  plt.text(0,-1.3,'Niño Fuerte',fontsize=6, color='black')\n",
        "\n",
        "  # Configurar ejes y leyendas\n",
        "  ax.set_xlabel('Año-Mes')\n",
        "  ax.set_ylabel('ICEN (Fenómeno)')\n",
        "  ax.set_title('Variación de ICEN a lo largo de los años')\n",
        "  ax.legend(['ICEN'], loc='best')\n",
        "\n",
        "  # Obtener las fechas únicas y espaciar las etiquetas en el eje X\n",
        "  indices = range(1, len(data['observation_date'].dt.to_period('M')), 365*4+1)\n",
        "\n",
        "  plt.xticks(indices, data['observation_date'].dt.to_period('M').array[indices], rotation=90)\n",
        "\n",
        "  # Mostrar la gráfica\n",
        "  plt.show()"
      ],
      "metadata": {
        "id": "OfpCqgkc9Os4"
      },
      "execution_count": 44,
      "outputs": []
    },
    {
      "cell_type": "markdown",
      "source": [
        "### WebScrapping de Datos Públicos sobre ICEN\n",
        "\n",
        "Tras tratar de generar algorimos que nos indicasen si realmente hubo o no un fenómeno del niño con indice `ICEN` vamos a analizar aplicando _WebScrapping_ a la página de [National Weither Service, Climate Prediction Center](https://www.cpc.ncep.noaa.gov/data/indices/) y obtendremos la base de datos `ERSSTv5` (para más detalles ir a la sección final de _Notas de Investigación_)."
      ],
      "metadata": {
        "id": "2-i4YMl3VlZc"
      }
    },
    {
      "cell_type": "code",
      "source": [
        "# WebScrapping de la temperatura promedio\n",
        "def webScrapping_temp_promedio():\n",
        "  print('WebScrapping Average Temperature...')\n",
        "  # URL de los datos\n",
        "  url = 'http://met.igp.gob.pe/datos/climNino12.txt'\n",
        "\n",
        "  # Leer los datos desde la URL y omitir las primeras líneas de encabezado\n",
        "  promedio_temp = pd.read_csv(url, skiprows=6, header=None, names=['promedio_temp'])\n",
        "  promedio_temp['month'] = range(1,13)\n",
        "  return promedio_temp\n",
        "\n",
        "\n",
        "# WebScrapping del ERSST5\n",
        "def webScrapping_ersst5():\n",
        "  print('WebScrapping ERSST5...')\n",
        "  # URL a la que realizar la solicitud\n",
        "  url = 'https://www.cpc.ncep.noaa.gov/data/indices/ersst5.nino.mth.91-20.ascii'\n",
        "\n",
        "  # Nombres de las columnas\n",
        "  column_names = ['year', 'month', 'nino1.2', 'anomalia']\n",
        "\n",
        "  # Tipos de datos de las columnas\n",
        "  column_types = {'year': int, 'month': int, 'nino1.2': float, 'anomalia': float}\n",
        "\n",
        "  # Leer los datos del archivo en un DataFrame\n",
        "  return pd.read_csv(url, delim_whitespace=True, skiprows=1,\n",
        "                          names=column_names, usecols=column_names,\n",
        "                          dtype=column_types )"
      ],
      "metadata": {
        "id": "PMbKjBUR1_pr"
      },
      "execution_count": 45,
      "outputs": []
    },
    {
      "cell_type": "code",
      "source": [
        "# WebScrapping de ERSST5 y Propmedio de Temperatura y combinación de ambos\n",
        "def get_ersst5_y_promedio_temp():\n",
        "  # WebScrapping ERSST5\n",
        "  ersst5_df = webScrapping_ersst5()\n",
        "  \n",
        "  # WebScrapping Temp Promedio Mensual 1981-2010\n",
        "  promedio_temp = webScrapping_temp_promedio()\n",
        "\n",
        "  # Combinar los DataFrames basado en la coincidencia de año y mes\n",
        "  ersst5_df = ersst5_df.merge(promedio_temp, on=['month'])\n",
        "  return ersst5_df\n",
        "\n",
        "\n",
        "# Juntar ERSST5 y Promedio de Temperatura de los meses\n",
        "def merge_ersst5_promedio_temp(data):\n",
        "  # Combinar los DataFrames basado en la coincidencia de año y mes\n",
        "  ersst5_df = get_ersst5_y_promedio_temp()\n",
        "\n",
        "  # Combinamos el ersst5_df y los datos\n",
        "  data = data.merge(ersst5_df, on=['year', 'month'])\n",
        "  \n",
        "  # Añadimos el fenomeno y retornamos los datos\n",
        "  data = add_fenomeno(data)\n",
        "  return data\n",
        "\n",
        "\n",
        "# Preparacion de todos los datos\n",
        "def prepare_data(data, print_n=True):\n",
        "  data = separe_date(data)\n",
        "  data = merge_ersst5_promedio_temp(data)\n",
        "  data.fillna(data.mean(numeric_only=True),inplace=True)\n",
        "  \n",
        "  if print_n:\n",
        "    print('Años con fenomeno del NIÑO identificados:')\n",
        "    print(list(data.year[data['anomalia'] > 1].unique()))\n",
        "    print('='*100)\n",
        "    \n",
        "    print('Años con fenomeno del NIÑA identificados:')\n",
        "    print(list(data.year[data['anomalia'] <= -1.1].unique()))\n",
        "    print('='*100)\n",
        "    \n",
        "    print('Años con fenomeno del NIÑO o NIÑA identificados:')\n",
        "    print(list(data.year[data['fenomeno']!='Neutro'].unique()))\n",
        "    print('='*100 + '\\n')\n",
        "  return data\n",
        "\n",
        "#Prueba\n",
        "ersst5_df = get_ersst5_y_promedio_temp()\n",
        "print('\\nA continuación vemos los datos obtenidos por WebScrapping:')\n",
        "ersst5_df.head()"
      ],
      "metadata": {
        "colab": {
          "base_uri": "https://localhost:8080/",
          "height": 276
        },
        "id": "5tXroHXrXR5L",
        "outputId": "627678f9-aa45-43ed-ce6a-c9602342e827"
      },
      "execution_count": 46,
      "outputs": [
        {
          "output_type": "stream",
          "name": "stdout",
          "text": [
            "WebScrapping ERSST5...\n",
            "WebScrapping Average Temperature...\n",
            "\n",
            "A continuación vemos los datos obtenidos por WebScrapping:\n"
          ]
        },
        {
          "output_type": "execute_result",
          "data": {
            "text/plain": [
              "   year  month  nino1.2  anomalia  promedio_temp\n",
              "0  1950      1    23.01     -1.55         24.685\n",
              "1  1951      1    24.11     -0.46         24.685\n",
              "2  1952      1    24.36     -0.21         24.685\n",
              "3  1953      1    24.13     -0.44         24.685\n",
              "4  1954      1    22.66     -1.91         24.685"
            ],
            "text/html": [
              "\n",
              "  <div id=\"df-eeaec08b-b28f-4a1f-915b-c094f0f989c0\">\n",
              "    <div class=\"colab-df-container\">\n",
              "      <div>\n",
              "<style scoped>\n",
              "    .dataframe tbody tr th:only-of-type {\n",
              "        vertical-align: middle;\n",
              "    }\n",
              "\n",
              "    .dataframe tbody tr th {\n",
              "        vertical-align: top;\n",
              "    }\n",
              "\n",
              "    .dataframe thead th {\n",
              "        text-align: right;\n",
              "    }\n",
              "</style>\n",
              "<table border=\"1\" class=\"dataframe\">\n",
              "  <thead>\n",
              "    <tr style=\"text-align: right;\">\n",
              "      <th></th>\n",
              "      <th>year</th>\n",
              "      <th>month</th>\n",
              "      <th>nino1.2</th>\n",
              "      <th>anomalia</th>\n",
              "      <th>promedio_temp</th>\n",
              "    </tr>\n",
              "  </thead>\n",
              "  <tbody>\n",
              "    <tr>\n",
              "      <th>0</th>\n",
              "      <td>1950</td>\n",
              "      <td>1</td>\n",
              "      <td>23.01</td>\n",
              "      <td>-1.55</td>\n",
              "      <td>24.685</td>\n",
              "    </tr>\n",
              "    <tr>\n",
              "      <th>1</th>\n",
              "      <td>1951</td>\n",
              "      <td>1</td>\n",
              "      <td>24.11</td>\n",
              "      <td>-0.46</td>\n",
              "      <td>24.685</td>\n",
              "    </tr>\n",
              "    <tr>\n",
              "      <th>2</th>\n",
              "      <td>1952</td>\n",
              "      <td>1</td>\n",
              "      <td>24.36</td>\n",
              "      <td>-0.21</td>\n",
              "      <td>24.685</td>\n",
              "    </tr>\n",
              "    <tr>\n",
              "      <th>3</th>\n",
              "      <td>1953</td>\n",
              "      <td>1</td>\n",
              "      <td>24.13</td>\n",
              "      <td>-0.44</td>\n",
              "      <td>24.685</td>\n",
              "    </tr>\n",
              "    <tr>\n",
              "      <th>4</th>\n",
              "      <td>1954</td>\n",
              "      <td>1</td>\n",
              "      <td>22.66</td>\n",
              "      <td>-1.91</td>\n",
              "      <td>24.685</td>\n",
              "    </tr>\n",
              "  </tbody>\n",
              "</table>\n",
              "</div>\n",
              "      <button class=\"colab-df-convert\" onclick=\"convertToInteractive('df-eeaec08b-b28f-4a1f-915b-c094f0f989c0')\"\n",
              "              title=\"Convert this dataframe to an interactive table.\"\n",
              "              style=\"display:none;\">\n",
              "        \n",
              "  <svg xmlns=\"http://www.w3.org/2000/svg\" height=\"24px\"viewBox=\"0 0 24 24\"\n",
              "       width=\"24px\">\n",
              "    <path d=\"M0 0h24v24H0V0z\" fill=\"none\"/>\n",
              "    <path d=\"M18.56 5.44l.94 2.06.94-2.06 2.06-.94-2.06-.94-.94-2.06-.94 2.06-2.06.94zm-11 1L8.5 8.5l.94-2.06 2.06-.94-2.06-.94L8.5 2.5l-.94 2.06-2.06.94zm10 10l.94 2.06.94-2.06 2.06-.94-2.06-.94-.94-2.06-.94 2.06-2.06.94z\"/><path d=\"M17.41 7.96l-1.37-1.37c-.4-.4-.92-.59-1.43-.59-.52 0-1.04.2-1.43.59L10.3 9.45l-7.72 7.72c-.78.78-.78 2.05 0 2.83L4 21.41c.39.39.9.59 1.41.59.51 0 1.02-.2 1.41-.59l7.78-7.78 2.81-2.81c.8-.78.8-2.07 0-2.86zM5.41 20L4 18.59l7.72-7.72 1.47 1.35L5.41 20z\"/>\n",
              "  </svg>\n",
              "      </button>\n",
              "      \n",
              "  <style>\n",
              "    .colab-df-container {\n",
              "      display:flex;\n",
              "      flex-wrap:wrap;\n",
              "      gap: 12px;\n",
              "    }\n",
              "\n",
              "    .colab-df-convert {\n",
              "      background-color: #E8F0FE;\n",
              "      border: none;\n",
              "      border-radius: 50%;\n",
              "      cursor: pointer;\n",
              "      display: none;\n",
              "      fill: #1967D2;\n",
              "      height: 32px;\n",
              "      padding: 0 0 0 0;\n",
              "      width: 32px;\n",
              "    }\n",
              "\n",
              "    .colab-df-convert:hover {\n",
              "      background-color: #E2EBFA;\n",
              "      box-shadow: 0px 1px 2px rgba(60, 64, 67, 0.3), 0px 1px 3px 1px rgba(60, 64, 67, 0.15);\n",
              "      fill: #174EA6;\n",
              "    }\n",
              "\n",
              "    [theme=dark] .colab-df-convert {\n",
              "      background-color: #3B4455;\n",
              "      fill: #D2E3FC;\n",
              "    }\n",
              "\n",
              "    [theme=dark] .colab-df-convert:hover {\n",
              "      background-color: #434B5C;\n",
              "      box-shadow: 0px 1px 3px 1px rgba(0, 0, 0, 0.15);\n",
              "      filter: drop-shadow(0px 1px 2px rgba(0, 0, 0, 0.3));\n",
              "      fill: #FFFFFF;\n",
              "    }\n",
              "  </style>\n",
              "\n",
              "      <script>\n",
              "        const buttonEl =\n",
              "          document.querySelector('#df-eeaec08b-b28f-4a1f-915b-c094f0f989c0 button.colab-df-convert');\n",
              "        buttonEl.style.display =\n",
              "          google.colab.kernel.accessAllowed ? 'block' : 'none';\n",
              "\n",
              "        async function convertToInteractive(key) {\n",
              "          const element = document.querySelector('#df-eeaec08b-b28f-4a1f-915b-c094f0f989c0');\n",
              "          const dataTable =\n",
              "            await google.colab.kernel.invokeFunction('convertToInteractive',\n",
              "                                                     [key], {});\n",
              "          if (!dataTable) return;\n",
              "\n",
              "          const docLinkHtml = 'Like what you see? Visit the ' +\n",
              "            '<a target=\"_blank\" href=https://colab.research.google.com/notebooks/data_table.ipynb>data table notebook</a>'\n",
              "            + ' to learn more about interactive tables.';\n",
              "          element.innerHTML = '';\n",
              "          dataTable['output_type'] = 'display_data';\n",
              "          await google.colab.output.renderOutput(dataTable, element);\n",
              "          const docLink = document.createElement('div');\n",
              "          docLink.innerHTML = docLinkHtml;\n",
              "          element.appendChild(docLink);\n",
              "        }\n",
              "      </script>\n",
              "    </div>\n",
              "  </div>\n",
              "  "
            ]
          },
          "metadata": {},
          "execution_count": 46
        }
      ]
    },
    {
      "cell_type": "markdown",
      "source": [
        "## FCD (Fundación Charles Darwing)"
      ],
      "metadata": {
        "id": "L96pxDIMp8Rb"
      }
    },
    {
      "cell_type": "code",
      "source": [
        "# Cargamos los datos\n",
        "fcd_df = pd.read_csv('https://www.darwinfoundation.org/images/climate/climate_puerto-ayora.csv')\n",
        "fcd_df['observation_date'] = pd.to_datetime(fcd_df['observation_date'])\n",
        "\n",
        "# Añadimos las columnas obtenidas por WebScrapping\n",
        "fcd_df = prepare_data(fcd_df)\n",
        "fcd_df.to_csv('./expanded_climate_puerto-ayora.csv')\n",
        "\n",
        "# Visualizamos el DataFrame\n",
        "fcd_df.head()"
      ],
      "metadata": {
        "colab": {
          "base_uri": "https://localhost:8080/",
          "height": 434
        },
        "id": "HZ--k1Eb5BBw",
        "outputId": "a3c50673-6346-47c8-ad45-f3858e3f8975"
      },
      "execution_count": 65,
      "outputs": [
        {
          "output_type": "stream",
          "name": "stdout",
          "text": [
            "WebScrapping ERSST5...\n",
            "WebScrapping Average Temperature...\n",
            "Años con fenomeno del NIÑO identificados:\n",
            "[1965, 1969, 1972, 1973, 1976, 1982, 1983, 1987, 1992, 1993, 1997, 1998, 2002, 2006, 2008, 2012, 2014, 2015, 2016, 2017, 2018, 2023]\n",
            "====================================================================================================\n",
            "Años con fenomeno del NIÑA identificados:\n",
            "[1964, 1966, 1967, 1968, 1970, 1971, 1973, 1974, 1975, 1976, 1977, 1978, 1981, 1982, 1984, 1985, 1986, 1988, 1989, 1994, 1995, 1996, 1999, 2000, 2001, 2003, 2004, 2005, 2006, 2007, 2010, 2013, 2017, 2018, 2020, 2021, 2022]\n",
            "====================================================================================================\n",
            "Años con fenomeno del NIÑO o NIÑA identificados:\n",
            "[1964, 1965, 1966, 1967, 1968, 1969, 1970, 1971, 1972, 1973, 1974, 1975, 1976, 1977, 1978, 1979, 1981, 1982, 1983, 1984, 1985, 1986, 1987, 1988, 1989, 1991, 1992, 1993, 1994, 1995, 1996, 1997, 1998, 1999, 2000, 2001, 2002, 2003, 2004, 2005, 2006, 2007, 2008, 2009, 2010, 2012, 2013, 2014, 2015, 2016, 2017, 2018, 2019, 2020, 2021, 2022, 2023]\n",
            "====================================================================================================\n",
            "\n"
          ]
        },
        {
          "output_type": "execute_result",
          "data": {
            "text/plain": [
              "  observation_date  min_air_temp  max_air_temp  mean_air_temp  sea_temp  \\\n",
              "0       1964-12-31     22.200000          30.8           26.1      25.8   \n",
              "1       1965-01-01     21.000000          25.8           23.9      22.7   \n",
              "2       1965-01-02     21.100000          26.2           23.4      22.4   \n",
              "3       1965-01-03     22.000000          26.6           23.7      23.1   \n",
              "4       1965-01-04     21.236939          26.6           24.0      23.1   \n",
              "\n",
              "   humidity  precipitation  sunshine_hours  clouds  year  month  day  nino1.2  \\\n",
              "0      82.0            0.0        4.302098     4.0  1964     12   31    21.48   \n",
              "1      84.0            0.7        4.302098     8.0  1965      1    1    23.87   \n",
              "2      83.0            0.0        4.302098     3.0  1965      1    2    23.87   \n",
              "3      81.0            0.0        4.302098     7.0  1965      1    3    23.87   \n",
              "4      79.0            0.3        4.302098     4.0  1965      1    4    23.87   \n",
              "\n",
              "   anomalia  promedio_temp       fenomeno  \n",
              "0     -1.33         23.012  Niña Moderado  \n",
              "1     -0.69         24.685         Neutro  \n",
              "2     -0.69         24.685         Neutro  \n",
              "3     -0.69         24.685         Neutro  \n",
              "4     -0.69         24.685         Neutro  "
            ],
            "text/html": [
              "\n",
              "  <div id=\"df-172624b8-7aa4-4b34-bd32-846ae2be5f0d\">\n",
              "    <div class=\"colab-df-container\">\n",
              "      <div>\n",
              "<style scoped>\n",
              "    .dataframe tbody tr th:only-of-type {\n",
              "        vertical-align: middle;\n",
              "    }\n",
              "\n",
              "    .dataframe tbody tr th {\n",
              "        vertical-align: top;\n",
              "    }\n",
              "\n",
              "    .dataframe thead th {\n",
              "        text-align: right;\n",
              "    }\n",
              "</style>\n",
              "<table border=\"1\" class=\"dataframe\">\n",
              "  <thead>\n",
              "    <tr style=\"text-align: right;\">\n",
              "      <th></th>\n",
              "      <th>observation_date</th>\n",
              "      <th>min_air_temp</th>\n",
              "      <th>max_air_temp</th>\n",
              "      <th>mean_air_temp</th>\n",
              "      <th>sea_temp</th>\n",
              "      <th>humidity</th>\n",
              "      <th>precipitation</th>\n",
              "      <th>sunshine_hours</th>\n",
              "      <th>clouds</th>\n",
              "      <th>year</th>\n",
              "      <th>month</th>\n",
              "      <th>day</th>\n",
              "      <th>nino1.2</th>\n",
              "      <th>anomalia</th>\n",
              "      <th>promedio_temp</th>\n",
              "      <th>fenomeno</th>\n",
              "    </tr>\n",
              "  </thead>\n",
              "  <tbody>\n",
              "    <tr>\n",
              "      <th>0</th>\n",
              "      <td>1964-12-31</td>\n",
              "      <td>22.200000</td>\n",
              "      <td>30.8</td>\n",
              "      <td>26.1</td>\n",
              "      <td>25.8</td>\n",
              "      <td>82.0</td>\n",
              "      <td>0.0</td>\n",
              "      <td>4.302098</td>\n",
              "      <td>4.0</td>\n",
              "      <td>1964</td>\n",
              "      <td>12</td>\n",
              "      <td>31</td>\n",
              "      <td>21.48</td>\n",
              "      <td>-1.33</td>\n",
              "      <td>23.012</td>\n",
              "      <td>Niña Moderado</td>\n",
              "    </tr>\n",
              "    <tr>\n",
              "      <th>1</th>\n",
              "      <td>1965-01-01</td>\n",
              "      <td>21.000000</td>\n",
              "      <td>25.8</td>\n",
              "      <td>23.9</td>\n",
              "      <td>22.7</td>\n",
              "      <td>84.0</td>\n",
              "      <td>0.7</td>\n",
              "      <td>4.302098</td>\n",
              "      <td>8.0</td>\n",
              "      <td>1965</td>\n",
              "      <td>1</td>\n",
              "      <td>1</td>\n",
              "      <td>23.87</td>\n",
              "      <td>-0.69</td>\n",
              "      <td>24.685</td>\n",
              "      <td>Neutro</td>\n",
              "    </tr>\n",
              "    <tr>\n",
              "      <th>2</th>\n",
              "      <td>1965-01-02</td>\n",
              "      <td>21.100000</td>\n",
              "      <td>26.2</td>\n",
              "      <td>23.4</td>\n",
              "      <td>22.4</td>\n",
              "      <td>83.0</td>\n",
              "      <td>0.0</td>\n",
              "      <td>4.302098</td>\n",
              "      <td>3.0</td>\n",
              "      <td>1965</td>\n",
              "      <td>1</td>\n",
              "      <td>2</td>\n",
              "      <td>23.87</td>\n",
              "      <td>-0.69</td>\n",
              "      <td>24.685</td>\n",
              "      <td>Neutro</td>\n",
              "    </tr>\n",
              "    <tr>\n",
              "      <th>3</th>\n",
              "      <td>1965-01-03</td>\n",
              "      <td>22.000000</td>\n",
              "      <td>26.6</td>\n",
              "      <td>23.7</td>\n",
              "      <td>23.1</td>\n",
              "      <td>81.0</td>\n",
              "      <td>0.0</td>\n",
              "      <td>4.302098</td>\n",
              "      <td>7.0</td>\n",
              "      <td>1965</td>\n",
              "      <td>1</td>\n",
              "      <td>3</td>\n",
              "      <td>23.87</td>\n",
              "      <td>-0.69</td>\n",
              "      <td>24.685</td>\n",
              "      <td>Neutro</td>\n",
              "    </tr>\n",
              "    <tr>\n",
              "      <th>4</th>\n",
              "      <td>1965-01-04</td>\n",
              "      <td>21.236939</td>\n",
              "      <td>26.6</td>\n",
              "      <td>24.0</td>\n",
              "      <td>23.1</td>\n",
              "      <td>79.0</td>\n",
              "      <td>0.3</td>\n",
              "      <td>4.302098</td>\n",
              "      <td>4.0</td>\n",
              "      <td>1965</td>\n",
              "      <td>1</td>\n",
              "      <td>4</td>\n",
              "      <td>23.87</td>\n",
              "      <td>-0.69</td>\n",
              "      <td>24.685</td>\n",
              "      <td>Neutro</td>\n",
              "    </tr>\n",
              "  </tbody>\n",
              "</table>\n",
              "</div>\n",
              "      <button class=\"colab-df-convert\" onclick=\"convertToInteractive('df-172624b8-7aa4-4b34-bd32-846ae2be5f0d')\"\n",
              "              title=\"Convert this dataframe to an interactive table.\"\n",
              "              style=\"display:none;\">\n",
              "        \n",
              "  <svg xmlns=\"http://www.w3.org/2000/svg\" height=\"24px\"viewBox=\"0 0 24 24\"\n",
              "       width=\"24px\">\n",
              "    <path d=\"M0 0h24v24H0V0z\" fill=\"none\"/>\n",
              "    <path d=\"M18.56 5.44l.94 2.06.94-2.06 2.06-.94-2.06-.94-.94-2.06-.94 2.06-2.06.94zm-11 1L8.5 8.5l.94-2.06 2.06-.94-2.06-.94L8.5 2.5l-.94 2.06-2.06.94zm10 10l.94 2.06.94-2.06 2.06-.94-2.06-.94-.94-2.06-.94 2.06-2.06.94z\"/><path d=\"M17.41 7.96l-1.37-1.37c-.4-.4-.92-.59-1.43-.59-.52 0-1.04.2-1.43.59L10.3 9.45l-7.72 7.72c-.78.78-.78 2.05 0 2.83L4 21.41c.39.39.9.59 1.41.59.51 0 1.02-.2 1.41-.59l7.78-7.78 2.81-2.81c.8-.78.8-2.07 0-2.86zM5.41 20L4 18.59l7.72-7.72 1.47 1.35L5.41 20z\"/>\n",
              "  </svg>\n",
              "      </button>\n",
              "      \n",
              "  <style>\n",
              "    .colab-df-container {\n",
              "      display:flex;\n",
              "      flex-wrap:wrap;\n",
              "      gap: 12px;\n",
              "    }\n",
              "\n",
              "    .colab-df-convert {\n",
              "      background-color: #E8F0FE;\n",
              "      border: none;\n",
              "      border-radius: 50%;\n",
              "      cursor: pointer;\n",
              "      display: none;\n",
              "      fill: #1967D2;\n",
              "      height: 32px;\n",
              "      padding: 0 0 0 0;\n",
              "      width: 32px;\n",
              "    }\n",
              "\n",
              "    .colab-df-convert:hover {\n",
              "      background-color: #E2EBFA;\n",
              "      box-shadow: 0px 1px 2px rgba(60, 64, 67, 0.3), 0px 1px 3px 1px rgba(60, 64, 67, 0.15);\n",
              "      fill: #174EA6;\n",
              "    }\n",
              "\n",
              "    [theme=dark] .colab-df-convert {\n",
              "      background-color: #3B4455;\n",
              "      fill: #D2E3FC;\n",
              "    }\n",
              "\n",
              "    [theme=dark] .colab-df-convert:hover {\n",
              "      background-color: #434B5C;\n",
              "      box-shadow: 0px 1px 3px 1px rgba(0, 0, 0, 0.15);\n",
              "      filter: drop-shadow(0px 1px 2px rgba(0, 0, 0, 0.3));\n",
              "      fill: #FFFFFF;\n",
              "    }\n",
              "  </style>\n",
              "\n",
              "      <script>\n",
              "        const buttonEl =\n",
              "          document.querySelector('#df-172624b8-7aa4-4b34-bd32-846ae2be5f0d button.colab-df-convert');\n",
              "        buttonEl.style.display =\n",
              "          google.colab.kernel.accessAllowed ? 'block' : 'none';\n",
              "\n",
              "        async function convertToInteractive(key) {\n",
              "          const element = document.querySelector('#df-172624b8-7aa4-4b34-bd32-846ae2be5f0d');\n",
              "          const dataTable =\n",
              "            await google.colab.kernel.invokeFunction('convertToInteractive',\n",
              "                                                     [key], {});\n",
              "          if (!dataTable) return;\n",
              "\n",
              "          const docLinkHtml = 'Like what you see? Visit the ' +\n",
              "            '<a target=\"_blank\" href=https://colab.research.google.com/notebooks/data_table.ipynb>data table notebook</a>'\n",
              "            + ' to learn more about interactive tables.';\n",
              "          element.innerHTML = '';\n",
              "          dataTable['output_type'] = 'display_data';\n",
              "          await google.colab.output.renderOutput(dataTable, element);\n",
              "          const docLink = document.createElement('div');\n",
              "          docLink.innerHTML = docLinkHtml;\n",
              "          element.appendChild(docLink);\n",
              "        }\n",
              "      </script>\n",
              "    </div>\n",
              "  </div>\n",
              "  "
            ]
          },
          "metadata": {},
          "execution_count": 65
        }
      ]
    },
    {
      "cell_type": "code",
      "source": [
        "plot_ICEN(fcd_df)"
      ],
      "metadata": {
        "id": "mt8wKb0of0k-",
        "colab": {
          "base_uri": "https://localhost:8080/",
          "height": 533
        },
        "outputId": "00815e0a-3dd4-4b4b-a9dc-0b7317c18c70"
      },
      "execution_count": 48,
      "outputs": [
        {
          "output_type": "display_data",
          "data": {
            "text/plain": [
              "<Figure size 1000x600 with 0 Axes>"
            ]
          },
          "metadata": {}
        },
        {
          "output_type": "display_data",
          "data": {
            "text/plain": [
              "<Figure size 640x480 with 1 Axes>"
            ],
            "image/png": "[encoded data removed]"
          },
          "metadata": {}
        }
      ]
    },
    {
      "cell_type": "markdown",
      "source": [
        "## CLASIFICACIÓN\n"
      ],
      "metadata": {
        "id": "zZ3sQtfKUCLF"
      }
    },
    {
      "cell_type": "code",
      "source": [
        "# Ejemplo de dataframe simplificado agrupado en meses\n",
        "df = add_fenomeno(webScrapping_ersst5())"
      ],
      "metadata": {
        "id": "UQgEiXzoT_j_",
        "colab": {
          "base_uri": "https://localhost:8080/"
        },
        "outputId": "10dc5cc1-5d40-4845-d376-92881d7b6c88"
      },
      "execution_count": 49,
      "outputs": [
        {
          "output_type": "stream",
          "name": "stdout",
          "text": [
            "WebScrapping ERSST5...\n"
          ]
        }
      ]
    },
    {
      "cell_type": "code",
      "source": [
        "print(\"Visualización de datos mínimos para predecir el fenómeno del niño\")\n",
        "df.head(10)"
      ],
      "metadata": {
        "colab": {
          "base_uri": "https://localhost:8080/",
          "height": 380
        },
        "id": "9ZDfw8eCbeFU",
        "outputId": "7bce19c4-3e70-44f4-fe8e-93074fd7dc30"
      },
      "execution_count": 50,
      "outputs": [
        {
          "output_type": "stream",
          "name": "stdout",
          "text": [
            "Visualización  de datos mínimos para predecir el fenómeno del niño\n"
          ]
        },
        {
          "output_type": "execute_result",
          "data": {
            "text/plain": [
              "   year  month  nino1.2  anomalia       fenomeno\n",
              "0  1950      1    23.01     -1.55    Niña Fuerte\n",
              "1  1950      2    24.32     -1.78    Niña Fuerte\n",
              "2  1950      3    25.11     -1.38  Niña Moderado\n",
              "3  1950      4    23.63     -1.90    Niña Fuerte\n",
              "4  1950      5    22.68     -1.74    Niña Fuerte\n",
              "5  1950      6    21.33     -1.79    Niña Fuerte\n",
              "6  1950      7    20.31     -1.65    Niña Fuerte\n",
              "7  1950      8    20.12     -0.88         Neutro\n",
              "8  1950      9    19.56     -1.17     Niña Débil\n",
              "9  1950     10    19.99     -1.02     Niña Débil"
            ],
            "text/html": [
              "\n",
              "  <div id=\"df-2d93de9c-e720-4242-a2e7-26c78f07e2a1\">\n",
              "    <div class=\"colab-df-container\">\n",
              "      <div>\n",
              "<style scoped>\n",
              "    .dataframe tbody tr th:only-of-type {\n",
              "        vertical-align: middle;\n",
              "    }\n",
              "\n",
              "    .dataframe tbody tr th {\n",
              "        vertical-align: top;\n",
              "    }\n",
              "\n",
              "    .dataframe thead th {\n",
              "        text-align: right;\n",
              "    }\n",
              "</style>\n",
              "<table border=\"1\" class=\"dataframe\">\n",
              "  <thead>\n",
              "    <tr style=\"text-align: right;\">\n",
              "      <th></th>\n",
              "      <th>year</th>\n",
              "      <th>month</th>\n",
              "      <th>nino1.2</th>\n",
              "      <th>anomalia</th>\n",
              "      <th>fenomeno</th>\n",
              "    </tr>\n",
              "  </thead>\n",
              "  <tbody>\n",
              "    <tr>\n",
              "      <th>0</th>\n",
              "      <td>1950</td>\n",
              "      <td>1</td>\n",
              "      <td>23.01</td>\n",
              "      <td>-1.55</td>\n",
              "      <td>Niña Fuerte</td>\n",
              "    </tr>\n",
              "    <tr>\n",
              "      <th>1</th>\n",
              "      <td>1950</td>\n",
              "      <td>2</td>\n",
              "      <td>24.32</td>\n",
              "      <td>-1.78</td>\n",
              "      <td>Niña Fuerte</td>\n",
              "    </tr>\n",
              "    <tr>\n",
              "      <th>2</th>\n",
              "      <td>1950</td>\n",
              "      <td>3</td>\n",
              "      <td>25.11</td>\n",
              "      <td>-1.38</td>\n",
              "      <td>Niña Moderado</td>\n",
              "    </tr>\n",
              "    <tr>\n",
              "      <th>3</th>\n",
              "      <td>1950</td>\n",
              "      <td>4</td>\n",
              "      <td>23.63</td>\n",
              "      <td>-1.90</td>\n",
              "      <td>Niña Fuerte</td>\n",
              "    </tr>\n",
              "    <tr>\n",
              "      <th>4</th>\n",
              "      <td>1950</td>\n",
              "      <td>5</td>\n",
              "      <td>22.68</td>\n",
              "      <td>-1.74</td>\n",
              "      <td>Niña Fuerte</td>\n",
              "    </tr>\n",
              "    <tr>\n",
              "      <th>5</th>\n",
              "      <td>1950</td>\n",
              "      <td>6</td>\n",
              "      <td>21.33</td>\n",
              "      <td>-1.79</td>\n",
              "      <td>Niña Fuerte</td>\n",
              "    </tr>\n",
              "    <tr>\n",
              "      <th>6</th>\n",
              "      <td>1950</td>\n",
              "      <td>7</td>\n",
              "      <td>20.31</td>\n",
              "      <td>-1.65</td>\n",
              "      <td>Niña Fuerte</td>\n",
              "    </tr>\n",
              "    <tr>\n",
              "      <th>7</th>\n",
              "      <td>1950</td>\n",
              "      <td>8</td>\n",
              "      <td>20.12</td>\n",
              "      <td>-0.88</td>\n",
              "      <td>Neutro</td>\n",
              "    </tr>\n",
              "    <tr>\n",
              "      <th>8</th>\n",
              "      <td>1950</td>\n",
              "      <td>9</td>\n",
              "      <td>19.56</td>\n",
              "      <td>-1.17</td>\n",
              "      <td>Niña Débil</td>\n",
              "    </tr>\n",
              "    <tr>\n",
              "      <th>9</th>\n",
              "      <td>1950</td>\n",
              "      <td>10</td>\n",
              "      <td>19.99</td>\n",
              "      <td>-1.02</td>\n",
              "      <td>Niña Débil</td>\n",
              "    </tr>\n",
              "  </tbody>\n",
              "</table>\n",
              "</div>\n",
              "      <button class=\"colab-df-convert\" onclick=\"convertToInteractive('df-2d93de9c-e720-4242-a2e7-26c78f07e2a1')\"\n",
              "              title=\"Convert this dataframe to an interactive table.\"\n",
              "              style=\"display:none;\">\n",
              "        \n",
              "  <svg xmlns=\"http://www.w3.org/2000/svg\" height=\"24px\"viewBox=\"0 0 24 24\"\n",
              "       width=\"24px\">\n",
              "    <path d=\"M0 0h24v24H0V0z\" fill=\"none\"/>\n",
              "    <path d=\"M18.56 5.44l.94 2.06.94-2.06 2.06-.94-2.06-.94-.94-2.06-.94 2.06-2.06.94zm-11 1L8.5 8.5l.94-2.06 2.06-.94-2.06-.94L8.5 2.5l-.94 2.06-2.06.94zm10 10l.94 2.06.94-2.06 2.06-.94-2.06-.94-.94-2.06-.94 2.06-2.06.94z\"/><path d=\"M17.41 7.96l-1.37-1.37c-.4-.4-.92-.59-1.43-.59-.52 0-1.04.2-1.43.59L10.3 9.45l-7.72 7.72c-.78.78-.78 2.05 0 2.83L4 21.41c.39.39.9.59 1.41.59.51 0 1.02-.2 1.41-.59l7.78-7.78 2.81-2.81c.8-.78.8-2.07 0-2.86zM5.41 20L4 18.59l7.72-7.72 1.47 1.35L5.41 20z\"/>\n",
              "  </svg>\n",
              "      </button>\n",
              "      \n",
              "  <style>\n",
              "    .colab-df-container {\n",
              "      display:flex;\n",
              "      flex-wrap:wrap;\n",
              "      gap: 12px;\n",
              "    }\n",
              "\n",
              "    .colab-df-convert {\n",
              "      background-color: #E8F0FE;\n",
              "      border: none;\n",
              "      border-radius: 50%;\n",
              "      cursor: pointer;\n",
              "      display: none;\n",
              "      fill: #1967D2;\n",
              "      height: 32px;\n",
              "      padding: 0 0 0 0;\n",
              "      width: 32px;\n",
              "    }\n",
              "\n",
              "    .colab-df-convert:hover {\n",
              "      background-color: #E2EBFA;\n",
              "      box-shadow: 0px 1px 2px rgba(60, 64, 67, 0.3), 0px 1px 3px 1px rgba(60, 64, 67, 0.15);\n",
              "      fill: #174EA6;\n",
              "    }\n",
              "\n",
              "    [theme=dark] .colab-df-convert {\n",
              "      background-color: #3B4455;\n",
              "      fill: #D2E3FC;\n",
              "    }\n",
              "\n",
              "    [theme=dark] .colab-df-convert:hover {\n",
              "      background-color: #434B5C;\n",
              "      box-shadow: 0px 1px 3px 1px rgba(0, 0, 0, 0.15);\n",
              "      filter: drop-shadow(0px 1px 2px rgba(0, 0, 0, 0.3));\n",
              "      fill: #FFFFFF;\n",
              "    }\n",
              "  </style>\n",
              "\n",
              "      <script>\n",
              "        const buttonEl =\n",
              "          document.querySelector('#df-2d93de9c-e720-4242-a2e7-26c78f07e2a1 button.colab-df-convert');\n",
              "        buttonEl.style.display =\n",
              "          google.colab.kernel.accessAllowed ? 'block' : 'none';\n",
              "\n",
              "        async function convertToInteractive(key) {\n",
              "          const element = document.querySelector('#df-2d93de9c-e720-4242-a2e7-26c78f07e2a1');\n",
              "          const dataTable =\n",
              "            await google.colab.kernel.invokeFunction('convertToInteractive',\n",
              "                                                     [key], {});\n",
              "          if (!dataTable) return;\n",
              "\n",
              "          const docLinkHtml = 'Like what you see? Visit the ' +\n",
              "            '<a target=\"_blank\" href=https://colab.research.google.com/notebooks/data_table.ipynb>data table notebook</a>'\n",
              "            + ' to learn more about interactive tables.';\n",
              "          element.innerHTML = '';\n",
              "          dataTable['output_type'] = 'display_data';\n",
              "          await google.colab.output.renderOutput(dataTable, element);\n",
              "          const docLink = document.createElement('div');\n",
              "          docLink.innerHTML = docLinkHtml;\n",
              "          element.appendChild(docLink);\n",
              "        }\n",
              "      </script>\n",
              "    </div>\n",
              "  </div>\n",
              "  "
            ]
          },
          "metadata": {},
          "execution_count": 50
        }
      ]
    },
    {
      "cell_type": "code",
      "source": [
        "#hacer otra columna que sea del siguiente estado, luego predecir esta misma.\n",
        "\n",
        "df['siguiente_fenomeno'] = df['fenomeno'].shift(-1)\n",
        "\n",
        "# Eliminamos las filas NaN (la ultima se genera por el shift(-1)\n",
        "df.dropna(inplace=True)\n",
        "\n",
        "#predecir siguiente fenomeno sin utilizar fenomeno, este está en anomalia, utilizar nino1.2 tmb"
      ],
      "metadata": {
        "id": "c2mFNgKWf-Qy"
      },
      "execution_count": 51,
      "outputs": []
    },
    {
      "cell_type": "code",
      "source": [
        "df[\"siguiente_fenomeno\"].unique()\n",
        "df[\"siguiente_fenomeno\"].value_counts()"
      ],
      "metadata": {
        "colab": {
          "base_uri": "https://localhost:8080/"
        },
        "id": "DB-MBAwrjr2d",
        "outputId": "f4c8c883-3860-494a-ef61-3a9222d81af9"
      },
      "execution_count": 52,
      "outputs": [
        {
          "output_type": "execute_result",
          "data": {
            "text/plain": [
              "Neutro             467\n",
              "Niña Fuerte         98\n",
              "Niño Débil          95\n",
              "Niña Débil          65\n",
              "Niña Moderado       62\n",
              "Niño Moderado       49\n",
              "Niño Fuerte         31\n",
              "Niño Muy Fuerte     13\n",
              "Name: siguiente_fenomeno, dtype: int64"
            ]
          },
          "metadata": {},
          "execution_count": 52
        }
      ]
    },
    {
      "cell_type": "code",
      "source": [
        "df2 = df[[\"nino1.2\",\"anomalia\",\"siguiente_fenomeno\"]].copy()\n",
        "\n",
        "#codificar fenomeno\n",
        "# Define the mapping dictionary\n",
        "mapping = {\"Niña Fuerte\": 0,\n",
        "           \"Niña Moderado\": 1,\n",
        "           \"Niña Débil\": 2,\n",
        "           \"Neutro\": 3,\n",
        "           \"Niño Débil\": 4,\n",
        "           \"Niño Moderado\": 5,\n",
        "           \"Niño Fuerte\": 6,\n",
        "           \"Niño Muy Fuerte\": 7 }\n",
        "\n",
        "# Apply the mapping to the \"fenomeno\" column\n",
        "df2[\"siguiente_fenomeno\"] =df2[\"siguiente_fenomeno\"].map(mapping)\n",
        "\n",
        "# Cambiamos el type de 'siguiente_fenomeno' a int\n",
        "df2['siguiente_fenomeno'] = df2['siguiente_fenomeno'].astype(int)\n",
        "print('Done!')"
      ],
      "metadata": {
        "id": "sRGgFu_igMqR",
        "colab": {
          "base_uri": "https://localhost:8080/"
        },
        "outputId": "4624cfee-49f2-4c92-f1b1-f67608c7b004"
      },
      "execution_count": 53,
      "outputs": [
        {
          "output_type": "stream",
          "name": "stdout",
          "text": [
            "Done!\n"
          ]
        }
      ]
    },
    {
      "cell_type": "code",
      "source": [
        "# Separar las variables independientes (X) y la variable dependiente (y)\n",
        "X = df2[['nino1.2', 'anomalia']]\n",
        "y = df2['siguiente_fenomeno']\n",
        "\n",
        "# Aplicar resampling utilizando RandomOverSampler\n",
        "ros = RandomOverSampler(random_state=0)\n",
        "X_resampled, y_resampled = ros.fit_resample(X,y)\n",
        "\n",
        "# Verificar el balance de las clases después del resampling\n",
        "print(\"Clases balanceadas después del resampling:\")\n",
        "print(y_resampled.value_counts())"
      ],
      "metadata": {
        "colab": {
          "base_uri": "https://localhost:8080/"
        },
        "id": "pdH2ipsjrF3x",
        "outputId": "e7b17866-f801-4f2f-d20a-bc8fe19f916c"
      },
      "execution_count": 54,
      "outputs": [
        {
          "output_type": "stream",
          "name": "stdout",
          "text": [
            "Clases balanceadas después del resampling:\n",
            "0    467\n",
            "1    467\n",
            "3    467\n",
            "2    467\n",
            "5    467\n",
            "6    467\n",
            "4    467\n",
            "7    467\n",
            "Name: siguiente_fenomeno, dtype: int64\n"
          ]
        }
      ]
    },
    {
      "cell_type": "code",
      "source": [
        "#Declaramos modelo\n",
        "model = DecisionTreeClassifier()\n",
        "\n",
        "#Variable acumuladora\n",
        "mean_score = 0.0\n",
        "#Declaramos cross validation\n",
        "cv = KFold(n_splits=5, random_state=50, shuffle=True) \n",
        "for train_index, test_index in cv.split(X_resampled):\n",
        "    #print(\"TRAIN:\", train_index, \"TEST:\", test_index)\n",
        "    #Seleccionamos los datos\n",
        "    x_train, y_train = X_resampled.iloc[train_index], y_resampled.iloc[train_index]\n",
        "    x_test, y_test = X_resampled.iloc[test_index], y_resampled.iloc[test_index]\n",
        "\n",
        "    model.fit(x_train, y_train)\n",
        "    mean_score = mean_score + model.score(x_test,y_test)\n",
        "    print(\"Accuracy: \", model.score(x_test,y_test))\n",
        "\n",
        "#Obtenemos la media de los resultados\n",
        "resultado = np.round(mean_score/5,2)\n",
        "print(\"Resultado con Cross validation: \", resultado) "
      ],
      "metadata": {
        "colab": {
          "base_uri": "https://localhost:8080/"
        },
        "id": "YKlHWK3wvfIa",
        "outputId": "3a6dc93b-143d-40b7-9db1-1c4bb754e31b"
      },
      "execution_count": 55,
      "outputs": [
        {
          "output_type": "stream",
          "name": "stdout",
          "text": [
            "KFold(n_splits=5, random_state=50, shuffle=True)\n",
            "Accuracy:  0.9331550802139037\n",
            "Accuracy:  0.9437751004016064\n",
            "Accuracy:  0.9370816599732262\n",
            "Accuracy:  0.9263721552878179\n",
            "Accuracy:  0.9303882195448461\n",
            "Resultado con Cross validation:  0.93\n"
          ]
        }
      ]
    },
    {
      "cell_type": "code",
      "source": [
        "# Calcular el accuracy\n",
        "test_predict = model.predict(x_test)\n",
        "accuracy = accuracy_score(y_test, test_predict)\n",
        "\n",
        "# Imprimir el resultado\n",
        "print(\"Accuracy:\", accuracy)"
      ],
      "metadata": {
        "colab": {
          "base_uri": "https://localhost:8080/"
        },
        "id": "fnb46edUv1ek",
        "outputId": "4c6718ba-43bf-4381-8507-83bdc33a4a0e"
      },
      "execution_count": 56,
      "outputs": [
        {
          "output_type": "stream",
          "name": "stdout",
          "text": [
            "Accuracy: 0.9303882195448461\n"
          ]
        }
      ]
    },
    {
      "cell_type": "code",
      "source": [
        "# Generate the confusion matrix\n",
        "cm = confusion_matrix(y_test, test_predict)\n",
        "\n",
        "# Create a heatmap for the confusion matrix\n",
        "sns.heatmap(cm, annot=True, fmt='d')\n",
        "\n",
        "# Set labels, title, and layout\n",
        "plt.xlabel('Predicted Labels')\n",
        "plt.ylabel('True Labels')\n",
        "plt.title('Confusion Matrix')\n",
        "plt.tight_layout()\n",
        "\n",
        "# Display the plot\n",
        "plt.show()"
      ],
      "metadata": {
        "colab": {
          "base_uri": "https://localhost:8080/",
          "height": 487
        },
        "id": "obgqPrKMv1g3",
        "outputId": "357c12a4-f252-4f1b-b82c-4891e49406fb"
      },
      "execution_count": 57,
      "outputs": [
        {
          "output_type": "display_data",
          "data": {
            "text/plain": [
              "<Figure size 640x480 with 2 Axes>"
            ],
            "image/png": "[encoded data removed]"
          },
          "metadata": {}
        }
      ]
    },
    {
      "cell_type": "markdown",
      "source": [
        "## Clasificación con GradientBoosting (Ensemble)\n",
        "\n",
        "Gradient Boosting es un algoritmo de aprendizaje automático que se utiliza para resolver problemas de regresión y clasificación. Es un método de ensamblado secuencial que combina múltiples modelos base, generalmente árboles de decisión débiles, en una forma aditiva.\n",
        "\n",
        "La idea principal detrás de Gradient Boosting es entrenar modelos base de forma secuencial, donde cada modelo se ajusta para corregir los errores cometidos por los modelos anteriores. En cada iteración, el modelo se entrena utilizando un gradiente descendente en función de los errores residuales del modelo anterior. Esto significa que cada nuevo modelo se ajusta a la parte del conjunto de datos que los modelos anteriores no pudieron explicar correctamente.\n",
        "\n",
        "Una característica clave de Gradient Boosting es que utiliza el concepto de \"boosting\" para mejorar el rendimiento. En lugar de asignar pesos iguales a todos los modelos base, se asignan pesos a los modelos en función de su contribución al rendimiento general del ensamblado. Esto permite que los modelos más efectivos tengan una mayor influencia en las predicciones finales.\n",
        "\n",
        "Gradient Boosting tiene varios hiperparámetros que se pueden ajustar para optimizar su rendimiento, como el número de estimadores (modelos base), la tasa de aprendizaje (learning rate), la profundidad de los árboles, entre otros. También es importante tener en cuenta que Gradient Boosting puede ser propenso al sobreajuste si no se controla adecuadamente, por lo que es importante ajustar los hiperparámetros y utilizar técnicas como la validación cruzada para evaluar su rendimiento en conjuntos de datos no vistos.\n",
        "\n",
        "Scikit-learn, una biblioteca popular de aprendizaje automático en Python, proporciona la implementación del algoritmo Gradient Boosting a través de la clase GradientBoostingClassifier para problemas de clasificación y GradientBoostingRegressor para problemas de regresión. Estas clases permiten ajustar y utilizar Gradient Boosting en conjuntos de datos de manera eficiente.\n",
        "\n",
        "`GradientBoostingClassifier` es una clase en scikit-learn que implementa el algoritmo de Gradient Boosting para problemas de clasificación. Utiliza múltiples modelos base, generalmente árboles de decisión, entrenados secuencialmente para corregir los errores del modelo anterior, y asigna pesos a los modelos en función de su contribución al rendimiento general. Los hiperparámetros clave incluyen el número de estimadores, la tasa de aprendizaje y la profundidad máxima de los árboles.\n"
      ],
      "metadata": {
        "id": "B01pMquWOjLP"
      }
    },
    {
      "cell_type": "code",
      "source": [
        "# Declaramos el ensamblador Gradient Boosting\n",
        "ensamblador = GradientBoostingClassifier(n_estimators=100, learning_rate=.55)\n",
        "\n",
        "# Variable acumuladora\n",
        "mean_score = 0.0\n",
        "\n",
        "# Bucle de validación cruzada\n",
        "for train_index, test_index in cv.split(X_resampled):\n",
        "    #print(\"TRAIN:\", train_index, \"TEST:\", test_index)\n",
        "    #Seleccionamos los datos\n",
        "    x_train, y_train = X_resampled.iloc[train_index], y_resampled.iloc[train_index]\n",
        "    x_test, y_test = X_resampled.iloc[test_index], y_resampled.iloc[test_index]\n",
        "\n",
        "    # Entrenar el ensamblador\n",
        "    ensamblador.fit(x_train, y_train)\n",
        "\n",
        "    # Calcular y acumular la puntuación\n",
        "    mean_score = mean_score + ensamblador.score(x_test, y_test)\n",
        "    print(\"Accuracy: \", ensamblador.score(x_test, y_test))\n",
        "\n",
        "# Obtenemos la media de los resultados\n",
        "resultado = np.round(mean_score / 5, 2)\n",
        "print(\"Resultado con Cross validation: \", resultado)"
      ],
      "metadata": {
        "colab": {
          "base_uri": "https://localhost:8080/"
        },
        "id": "0Ii61rNQCfSC",
        "outputId": "886c92ab-d753-4018-9696-bcba0ed66f89"
      },
      "execution_count": 58,
      "outputs": [
        {
          "output_type": "stream",
          "name": "stdout",
          "text": [
            "Accuracy:  0.9344919786096256\n",
            "Accuracy:  0.9558232931726908\n",
            "Accuracy:  0.9437751004016064\n",
            "Accuracy:  0.9196787148594378\n",
            "Accuracy:  0.9397590361445783\n",
            "Resultado con Cross validation:  0.94\n"
          ]
        }
      ]
    },
    {
      "cell_type": "code",
      "source": [
        "# Calcular el accuracy\n",
        "\n",
        "test_predict = ensamblador.predict(x_test)\n",
        "accuracy = accuracy_score(y_test, test_predict)\n",
        "\n",
        "# Imprimir el resultado\n",
        "print(\"Accuracy:\", accuracy)\n",
        "\n",
        "# Generate the confusion matrix\n",
        "cm = confusion_matrix(y_test, test_predict)\n",
        "\n",
        "# Create a heatmap for the confusion matrix\n",
        "sns.heatmap(cm, annot=True, fmt='d')\n",
        "\n",
        "# Set labels, title, and layout\n",
        "plt.xlabel('Predicted Labels')\n",
        "plt.ylabel('True Labels')\n",
        "plt.title('Confusion Matrix')\n",
        "plt.tight_layout()\n",
        "\n",
        "# Display the plot\n",
        "plt.show()"
      ],
      "metadata": {
        "colab": {
          "base_uri": "https://localhost:8080/",
          "height": 504
        },
        "id": "eI8nnI6oFAUP",
        "outputId": "1cd84ffb-2e75-4281-878c-0d67054d344a"
      },
      "execution_count": 59,
      "outputs": [
        {
          "output_type": "stream",
          "name": "stdout",
          "text": [
            "Accuracy: 0.9397590361445783\n"
          ]
        },
        {
          "output_type": "display_data",
          "data": {
            "text/plain": [
              "<Figure size 640x480 with 2 Axes>"
            ],
            "image/png": "[encoded data removed]"
          },
          "metadata": {}
        }
      ]
    },
    {
      "cell_type": "code",
      "source": [
        "def predecir(anomalia):\n",
        "  # Define the mapping dictionary\n",
        "  mapping = [\"Niña Fuerte\",\n",
        "              \"Niña Moderado\",\n",
        "              \"Niña Débil\",\n",
        "              \"Neutro\",\n",
        "              \"Niño Débil\",\n",
        "              \"Niño Moderado\",\n",
        "              \"Niño Fuerte\",\n",
        "              \"Niño Muy Fuerte\"]\n",
        "  return mapping[ensamblador.predict(np.array(anomalia).reshape(1,2))[0]]\n",
        "\n",
        "for i in range(-20,30):\n",
        "  print('20º anomalia:' , i/10, ' - ' , predecir([20,i/10]))"
      ],
      "metadata": {
        "colab": {
          "base_uri": "https://localhost:8080/"
        },
        "id": "QKWHvO_tQrtk",
        "outputId": "a5229633-c410-4dff-cc9c-0cd80068df19"
      },
      "execution_count": 60,
      "outputs": [
        {
          "output_type": "stream",
          "name": "stderr",
          "text": [
            "/usr/local/lib/python3.10/dist-packages/sklearn/base.py:439: UserWarning: X does not have valid feature names, but GradientBoostingClassifier was fitted with feature names\n",
            "  warnings.warn(\n",
            "/usr/local/lib/python3.10/dist-packages/sklearn/base.py:439: UserWarning: X does not have valid feature names, but GradientBoostingClassifier was fitted with feature names\n",
            "  warnings.warn(\n",
            "/usr/local/lib/python3.10/dist-packages/sklearn/base.py:439: UserWarning: X does not have valid feature names, but GradientBoostingClassifier was fitted with feature names\n",
            "  warnings.warn(\n",
            "/usr/local/lib/python3.10/dist-packages/sklearn/base.py:439: UserWarning: X does not have valid feature names, but GradientBoostingClassifier was fitted with feature names\n",
            "  warnings.warn(\n",
            "/usr/local/lib/python3.10/dist-packages/sklearn/base.py:439: UserWarning: X does not have valid feature names, but GradientBoostingClassifier was fitted with feature names\n",
            "  warnings.warn(\n",
            "/usr/local/lib/python3.10/dist-packages/sklearn/base.py:439: UserWarning: X does not have valid feature names, but GradientBoostingClassifier was fitted with feature names\n",
            "  warnings.warn(\n",
            "/usr/local/lib/python3.10/dist-packages/sklearn/base.py:439: UserWarning: X does not have valid feature names, but GradientBoostingClassifier was fitted with feature names\n",
            "  warnings.warn(\n",
            "/usr/local/lib/python3.10/dist-packages/sklearn/base.py:439: UserWarning: X does not have valid feature names, but GradientBoostingClassifier was fitted with feature names\n",
            "  warnings.warn(\n",
            "/usr/local/lib/python3.10/dist-packages/sklearn/base.py:439: UserWarning: X does not have valid feature names, but GradientBoostingClassifier was fitted with feature names\n",
            "  warnings.warn(\n",
            "/usr/local/lib/python3.10/dist-packages/sklearn/base.py:439: UserWarning: X does not have valid feature names, but GradientBoostingClassifier was fitted with feature names\n",
            "  warnings.warn(\n",
            "/usr/local/lib/python3.10/dist-packages/sklearn/base.py:439: UserWarning: X does not have valid feature names, but GradientBoostingClassifier was fitted with feature names\n",
            "  warnings.warn(\n",
            "/usr/local/lib/python3.10/dist-packages/sklearn/base.py:439: UserWarning: X does not have valid feature names, but GradientBoostingClassifier was fitted with feature names\n",
            "  warnings.warn(\n",
            "/usr/local/lib/python3.10/dist-packages/sklearn/base.py:439: UserWarning: X does not have valid feature names, but GradientBoostingClassifier was fitted with feature names\n",
            "  warnings.warn(\n",
            "/usr/local/lib/python3.10/dist-packages/sklearn/base.py:439: UserWarning: X does not have valid feature names, but GradientBoostingClassifier was fitted with feature names\n",
            "  warnings.warn(\n",
            "/usr/local/lib/python3.10/dist-packages/sklearn/base.py:439: UserWarning: X does not have valid feature names, but GradientBoostingClassifier was fitted with feature names\n",
            "  warnings.warn(\n",
            "/usr/local/lib/python3.10/dist-packages/sklearn/base.py:439: UserWarning: X does not have valid feature names, but GradientBoostingClassifier was fitted with feature names\n",
            "  warnings.warn(\n",
            "/usr/local/lib/python3.10/dist-packages/sklearn/base.py:439: UserWarning: X does not have valid feature names, but GradientBoostingClassifier was fitted with feature names\n",
            "  warnings.warn(\n",
            "/usr/local/lib/python3.10/dist-packages/sklearn/base.py:439: UserWarning: X does not have valid feature names, but GradientBoostingClassifier was fitted with feature names\n",
            "  warnings.warn(\n",
            "/usr/local/lib/python3.10/dist-packages/sklearn/base.py:439: UserWarning: X does not have valid feature names, but GradientBoostingClassifier was fitted with feature names\n",
            "  warnings.warn(\n",
            "/usr/local/lib/python3.10/dist-packages/sklearn/base.py:439: UserWarning: X does not have valid feature names, but GradientBoostingClassifier was fitted with feature names\n",
            "  warnings.warn(\n",
            "/usr/local/lib/python3.10/dist-packages/sklearn/base.py:439: UserWarning: X does not have valid feature names, but GradientBoostingClassifier was fitted with feature names\n",
            "  warnings.warn(\n",
            "/usr/local/lib/python3.10/dist-packages/sklearn/base.py:439: UserWarning: X does not have valid feature names, but GradientBoostingClassifier was fitted with feature names\n",
            "  warnings.warn(\n",
            "/usr/local/lib/python3.10/dist-packages/sklearn/base.py:439: UserWarning: X does not have valid feature names, but GradientBoostingClassifier was fitted with feature names\n",
            "  warnings.warn(\n",
            "/usr/local/lib/python3.10/dist-packages/sklearn/base.py:439: UserWarning: X does not have valid feature names, but GradientBoostingClassifier was fitted with feature names\n",
            "  warnings.warn(\n",
            "/usr/local/lib/python3.10/dist-packages/sklearn/base.py:439: UserWarning: X does not have valid feature names, but GradientBoostingClassifier was fitted with feature names\n",
            "  warnings.warn(\n",
            "/usr/local/lib/python3.10/dist-packages/sklearn/base.py:439: UserWarning: X does not have valid feature names, but GradientBoostingClassifier was fitted with feature names\n",
            "  warnings.warn(\n",
            "/usr/local/lib/python3.10/dist-packages/sklearn/base.py:439: UserWarning: X does not have valid feature names, but GradientBoostingClassifier was fitted with feature names\n",
            "  warnings.warn(\n",
            "/usr/local/lib/python3.10/dist-packages/sklearn/base.py:439: UserWarning: X does not have valid feature names, but GradientBoostingClassifier was fitted with feature names\n",
            "  warnings.warn(\n",
            "/usr/local/lib/python3.10/dist-packages/sklearn/base.py:439: UserWarning: X does not have valid feature names, but GradientBoostingClassifier was fitted with feature names\n",
            "  warnings.warn(\n",
            "/usr/local/lib/python3.10/dist-packages/sklearn/base.py:439: UserWarning: X does not have valid feature names, but GradientBoostingClassifier was fitted with feature names\n",
            "  warnings.warn(\n",
            "/usr/local/lib/python3.10/dist-packages/sklearn/base.py:439: UserWarning: X does not have valid feature names, but GradientBoostingClassifier was fitted with feature names\n",
            "  warnings.warn(\n",
            "/usr/local/lib/python3.10/dist-packages/sklearn/base.py:439: UserWarning: X does not have valid feature names, but GradientBoostingClassifier was fitted with feature names\n",
            "  warnings.warn(\n",
            "/usr/local/lib/python3.10/dist-packages/sklearn/base.py:439: UserWarning: X does not have valid feature names, but GradientBoostingClassifier was fitted with feature names\n",
            "  warnings.warn(\n",
            "/usr/local/lib/python3.10/dist-packages/sklearn/base.py:439: UserWarning: X does not have valid feature names, but GradientBoostingClassifier was fitted with feature names\n",
            "  warnings.warn(\n",
            "/usr/local/lib/python3.10/dist-packages/sklearn/base.py:439: UserWarning: X does not have valid feature names, but GradientBoostingClassifier was fitted with feature names\n",
            "  warnings.warn(\n",
            "/usr/local/lib/python3.10/dist-packages/sklearn/base.py:439: UserWarning: X does not have valid feature names, but GradientBoostingClassifier was fitted with feature names\n",
            "  warnings.warn(\n",
            "/usr/local/lib/python3.10/dist-packages/sklearn/base.py:439: UserWarning: X does not have valid feature names, but GradientBoostingClassifier was fitted with feature names\n",
            "  warnings.warn(\n",
            "/usr/local/lib/python3.10/dist-packages/sklearn/base.py:439: UserWarning: X does not have valid feature names, but GradientBoostingClassifier was fitted with feature names\n",
            "  warnings.warn(\n",
            "/usr/local/lib/python3.10/dist-packages/sklearn/base.py:439: UserWarning: X does not have valid feature names, but GradientBoostingClassifier was fitted with feature names\n",
            "  warnings.warn(\n",
            "/usr/local/lib/python3.10/dist-packages/sklearn/base.py:439: UserWarning: X does not have valid feature names, but GradientBoostingClassifier was fitted with feature names\n",
            "  warnings.warn(\n",
            "/usr/local/lib/python3.10/dist-packages/sklearn/base.py:439: UserWarning: X does not have valid feature names, but GradientBoostingClassifier was fitted with feature names\n",
            "  warnings.warn(\n",
            "/usr/local/lib/python3.10/dist-packages/sklearn/base.py:439: UserWarning: X does not have valid feature names, but GradientBoostingClassifier was fitted with feature names\n",
            "  warnings.warn(\n",
            "/usr/local/lib/python3.10/dist-packages/sklearn/base.py:439: UserWarning: X does not have valid feature names, but GradientBoostingClassifier was fitted with feature names\n",
            "  warnings.warn(\n",
            "/usr/local/lib/python3.10/dist-packages/sklearn/base.py:439: UserWarning: X does not have valid feature names, but GradientBoostingClassifier was fitted with feature names\n",
            "  warnings.warn(\n",
            "/usr/local/lib/python3.10/dist-packages/sklearn/base.py:439: UserWarning: X does not have valid feature names, but GradientBoostingClassifier was fitted with feature names\n",
            "  warnings.warn(\n",
            "/usr/local/lib/python3.10/dist-packages/sklearn/base.py:439: UserWarning: X does not have valid feature names, but GradientBoostingClassifier was fitted with feature names\n",
            "  warnings.warn(\n"
          ]
        },
        {
          "output_type": "stream",
          "name": "stdout",
          "text": [
            "20º anomalia: -2.0  -  Niña Fuerte\n",
            "20º anomalia: -1.9  -  Niña Fuerte\n",
            "20º anomalia: -1.8  -  Niña Débil\n",
            "20º anomalia: -1.7  -  Niña Fuerte\n",
            "20º anomalia: -1.6  -  Niña Débil\n",
            "20º anomalia: -1.5  -  Niña Débil\n",
            "20º anomalia: -1.4  -  Niña Fuerte\n",
            "20º anomalia: -1.3  -  Niña Fuerte\n",
            "20º anomalia: -1.2  -  Niña Fuerte\n",
            "20º anomalia: -1.1  -  Niña Débil\n",
            "20º anomalia: -1.0  -  Niña Fuerte\n",
            "20º anomalia: -0.9  -  Niña Débil\n",
            "20º anomalia: -0.8  -  Niña Moderado\n",
            "20º anomalia: -0.7  -  Niña Débil\n",
            "20º anomalia: -0.6  -  Niña Débil\n",
            "20º anomalia: -0.5  -  Neutro\n",
            "20º anomalia: -0.4  -  Neutro\n",
            "20º anomalia: -0.3  -  Neutro\n",
            "20º anomalia: -0.2  -  Neutro\n",
            "20º anomalia: -0.1  -  Neutro\n",
            "20º anomalia: 0.0  -  Neutro\n",
            "20º anomalia: 0.1  -  Neutro\n",
            "20º anomalia: 0.2  -  Neutro\n",
            "20º anomalia: 0.3  -  Neutro\n",
            "20º anomalia: 0.4  -  Neutro\n",
            "20º anomalia: 0.5  -  Neutro\n",
            "20º anomalia: 0.6  -  Neutro\n",
            "20º anomalia: 0.7  -  Neutro\n",
            "20º anomalia: 0.8  -  Neutro\n",
            "20º anomalia: 0.9  -  Neutro\n",
            "20º anomalia: 1.0  -  Niño Moderado\n",
            "20º anomalia: 1.1  -  Niño Moderado\n",
            "20º anomalia: 1.2  -  Niño Moderado\n",
            "20º anomalia: 1.3  -  Niño Fuerte\n",
            "20º anomalia: 1.4  -  Niño Fuerte\n",
            "20º anomalia: 1.5  -  Niño Fuerte\n",
            "20º anomalia: 1.6  -  Niño Fuerte\n",
            "20º anomalia: 1.7  -  Niño Fuerte\n",
            "20º anomalia: 1.8  -  Niño Fuerte\n",
            "20º anomalia: 1.9  -  Niño Fuerte\n",
            "20º anomalia: 2.0  -  Niño Fuerte\n",
            "20º anomalia: 2.1  -  Niño Fuerte\n",
            "20º anomalia: 2.2  -  Niño Fuerte\n",
            "20º anomalia: 2.3  -  Niño Fuerte\n",
            "20º anomalia: 2.4  -  Niño Fuerte\n",
            "20º anomalia: 2.5  -  Niño Fuerte\n",
            "20º anomalia: 2.6  -  Niño Fuerte\n",
            "20º anomalia: 2.7  -  Niño Fuerte\n",
            "20º anomalia: 2.8  -  Niño Fuerte\n",
            "20º anomalia: 2.9  -  Niño Fuerte\n"
          ]
        },
        {
          "output_type": "stream",
          "name": "stderr",
          "text": [
            "/usr/local/lib/python3.10/dist-packages/sklearn/base.py:439: UserWarning: X does not have valid feature names, but GradientBoostingClassifier was fitted with feature names\n",
            "  warnings.warn(\n",
            "/usr/local/lib/python3.10/dist-packages/sklearn/base.py:439: UserWarning: X does not have valid feature names, but GradientBoostingClassifier was fitted with feature names\n",
            "  warnings.warn(\n",
            "/usr/local/lib/python3.10/dist-packages/sklearn/base.py:439: UserWarning: X does not have valid feature names, but GradientBoostingClassifier was fitted with feature names\n",
            "  warnings.warn(\n",
            "/usr/local/lib/python3.10/dist-packages/sklearn/base.py:439: UserWarning: X does not have valid feature names, but GradientBoostingClassifier was fitted with feature names\n",
            "  warnings.warn(\n"
          ]
        }
      ]
    },
    {
      "cell_type": "markdown",
      "source": [
        "## Notas de investigación\n",
        "\n",
        "### Archivos y bases de datos a investigar\n",
        "- En un principio planteamos la posibilidad de combinar la predicción de `ONI` y `ICEN`, pero investigando y profundizando en el tema hemos podido observar que no hay una clara relación entre `ONI` y las **Islas Galápago**.\n",
        "\n",
        "- También obtuvimos datos de la _NASA_ pero no nos aportó más información de valor respecto a la ofrecida por la _Fundación Charles Darwin_, así que esa idea fue descartada.\n",
        "\n",
        "Citando lo mencionado en _[Ministerio de Ambiente de Perú](http://met.igp.gob.pe/variabclim/indices.html)_:\n",
        "\n",
        "- *En el evento El Niño 1998, las anomalías en la costa peruana (ej. Niño 1+2) fueron bastante mayores que en el Pacífico central (Niño 3.4), pero lo opuesto ocurrió en El Niño 2010. Esto resalta la necesidad de monitorear al menos estas dos regiones separadamente.*\n",
        "\n",
        "### Datos Públicos Online\n",
        "[National Weither Service, Climate Prediction Center](https://www.cpc.ncep.noaa.gov/data/indices/) podemos observar varios datos semanal y mensualmente, donde podemos identificar la `OISST.v2.1` y la `ERSSTv5`, que son las dos bases de datos utilizadas para el análisis de las temperaturas superficiales del mar (TSM). Se diferencian en lo siguiente:\n",
        "\n",
        "- La `OISST.v2.1` abarca el período de 1981 hasta la actualidad, mientras que la **`ERSSTv5` cubre desde 1854 hasta la actualidad.**\n",
        "\n",
        "- La `OISST.v2.1` proporciona datos de alta resolución temporal, generalmente en intervalos diarios o sub-diarios, mientras que la `ERSSTv5` se enfoca en datos mensuales.\n",
        "\n",
        "- La `OISST.v2.1` utiliza un método de interpolación óptima para estimar las TSM en áreas sin datos observados, mientras que la `ERSSTv5` utiliza técnicas estadísticas de reconstrucción.\n",
        "\n",
        "- La `OISST.v2.1` se utiliza principalmente para el monitoreo en tiempo real, mientras que la **`ERSSTv5` se utiliza para estudios climáticos y análisis históricos.**\n",
        "\n",
        "Por lo que hemos decidido usar la base de datos `ERSSTv5`.\n",
        "\n",
        "### Archivos Fundación Darwin\n",
        "- En un principio ibamos a decantar por usar esta información, pero buscando por internet encontramos varias bases de datos que se actuaizan en tiempo real, aun así queremos tratar de combinar la predicción facilitada por _CPC_ y combinarla."
      ],
      "metadata": {
        "id": "HAXv7PYzCB17"
      }
    },
    {
      "cell_type": "markdown",
      "source": [
        "## Bibliografía\n",
        "\n",
        "[Fenómeno El Niño (WikiPedia)](https://es.wikipedia.org/wiki/El_Ni%C3%B1o_%28fen%C3%B3meno%29)\n",
        "\n",
        "[El Niño-Oscilacion del Sur (WikiPedia)](https://es.wikipedia.org/wiki/El_Ni%C3%B1o-Oscilaci%C3%B3n_del_Sur)\n",
        "\n",
        "[The Power Proyect NASA.gov](https://power.larc.nasa.gov/)\n",
        "\n",
        "[Organización Meteorolóica Mundial](https://public.wmo.int/es/el-ni%C3%B1ola-ni%C3%B1a-hoy)\n",
        "\n",
        "[MINAM (Ministerio del Ambiente de Perú)](https://www.minam.gob.pe/)\n",
        "\n",
        "[MINAM: Qué es el Niño y que factores determinan su intensidad](https://www.minam.gob.pe/fenomenodelnino/que-es-el-nino-y-que-factores-determinan-su-intensidad/evolucion-de-la-definicion-de-el-nino/#:~:text=Este%20%C3%ADndice%20se%20calcula%20promediando%203%20meses%20consecutivos,ONI%20supera%20el%20umbral%20de%20%2B%2F-%200%2C5%20%C2%BAC.)\n",
        "\n",
        "[NOAA.gov (National Oceanic and Atmospheric Administration)](https://noaa.gov)\n",
        "\n",
        "\n",
        "[Indices Meteorológicos de Peru (ICEN)](http://met.igp.gob.pe/variabclim/indices.html)\n",
        "\n",
        "[Datos ICEN de Perú (IGP.gob.pe)](http://met.igp.gob.pe/datos/icen.txt)\n",
        "\n",
        "[National Weither Service, Climate Prediction Center](https://www.cpc.ncep.noaa.gov/data/indices/)\n",
        "\n",
        "[MODELO DE RED NEURONAL ARTIFICIAL PARA LA PREDICCIÓN DEL \n",
        "FENÓMENO “EL NIÑO” EN LA REGIÓN DE PIURA (PERÚ)\n",
        "](https://journals.eagora.org/revTECHNO/article/download/4815/3119/15945)"
      ],
      "metadata": {
        "id": "95ygZbbk_K2N"
      }
    }
  ]
}